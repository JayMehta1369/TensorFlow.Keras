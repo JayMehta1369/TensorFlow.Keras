{
  "cells": [
    {
      "cell_type": "markdown",
      "metadata": {
        "id": "9Ox14YyXuk-I"
      },
      "source": [
        "# Human Activity Recognition using TensorFlow.Keras"
      ]
    },
    {
      "cell_type": "markdown",
      "metadata": {
        "id": "q9psVS1Cuk-M"
      },
      "source": [
        "Here, I am considering to tackle the task that involves Human Activity Recognition database built from the recordings of 30 subjects performing activities of daily living (ADL) while carrying a waist-mounted smartphone with embedded inertial sensors. The dataset can be found here: https://archive.ics.uci.edu/ml/datasets/Human+Activity+Recognition+Using+Smartphones."
      ]
    },
    {
      "cell_type": "markdown",
      "metadata": {
        "id": "rd6m8-Ceuk-N"
      },
      "source": [
        "# Dataset information"
      ]
    },
    {
      "cell_type": "markdown",
      "metadata": {
        "id": "NRnujb0Ouk-N"
      },
      "source": [
        "The experiments have been carried out with a group of 30 volunteers within an age bracket of 19-48 years. Each person performed six activities (WALKING, WALKING_UPSTAIRS, WALKING_DOWNSTAIRS, SITTING, STANDING, LYING) wearing a smartphone (Samsung Galaxy S II) on the waist, during the experiment execution. Using its embedded accelerometer and gyroscope, they captured 3-axial linear acceleration and 3-axial angular velocity at a constant rate of 50Hz. \n",
        "\n",
        "The sensor signals (accelerometer and gyroscope) were pre-processed by applying noise filters and then sampled in fixed-width sliding windows of 2.56 sec and 50% overlap (128 readings/window). The sensor acceleration signal, which has gravitational and body motion components, was separated using a Butterworth low-pass filter into body acceleration and gravity. The gravitational force is assumed to have only low frequency components, therefore a filter with 0.3 Hz cutoff frequency was used. From each window, a vector of features was obtained by calculating variables from the time and frequency domain."
      ]
    },
    {
      "cell_type": "markdown",
      "metadata": {
        "id": "sDOfLceouk-O"
      },
      "source": [
        "# Attribute information"
      ]
    },
    {
      "cell_type": "markdown",
      "metadata": {
        "id": "68EG0jIyuk-O"
      },
      "source": [
        "    - For each record in the dataset, a 561-feature vector with time and frequency domain variables has been provided.\n",
        "    - Each feature vector is a row on the text file.\n",
        "    - Features are normalized and bounded within [-1,1].\n",
        "    - Also, each record contains the corresponding activity label out of six activities (WALKING, WALKING_UPSTAIRS, WALKING_DOWNSTAIRS, SITTING, STANDING, LYING) and an identifier of the subject who carried out the experiment ranging from 1 to 30.\n",
        "\n",
        "The complete list of variables (561 in total) of each feature vector is available in the file 'features.txt'."
      ]
    },
    {
      "cell_type": "markdown",
      "metadata": {
        "id": "1iWqc107uk-P"
      },
      "source": [
        "# Importing libraries & the datasets"
      ]
    },
    {
      "cell_type": "code",
      "execution_count": null,
      "metadata": {
        "id": "4Iainp75xYCu"
      },
      "outputs": [],
      "source": [
        "# Importing the required libraries\n",
        "from autograd import numpy as np\n",
        "import pandas as pd\n",
        "import matplotlib.pyplot as plt \n",
        "from matplotlib import gridspec \n",
        "import tensorflow as tf\n",
        "from tensorflow.keras import Sequential\n",
        "from tensorflow.keras import models\n",
        "from tensorflow.keras import layers \n",
        "from tensorflow.keras.utils import to_categorical "
      ]
    },
    {
      "cell_type": "markdown",
      "metadata": {
        "id": "N9qE7NtXuk-R"
      },
      "source": [
        "Careful that all the .csv (X_train.csv, y_train.csv, X_test.csv & y_test.csv) datafiles must be in the same working directory as this jupyter notebook (FinalProject_400285158.ipynb)."
      ]
    },
    {
      "cell_type": "code",
      "execution_count": null,
      "metadata": {
        "id": "vKrJtc468SZB"
      },
      "outputs": [],
      "source": [
        "# importing training dataset and their corresponding labels \n",
        "csvname1 = 'X_train.csv'\n",
        "csvname2 = 'y_train.csv'\n",
        "\n",
        "X_train = np.loadtxt(csvname1, delimiter = ',', skiprows = 1) \n",
        "y_train = np.loadtxt(csvname2, delimiter = ',', skiprows = 1)\n",
        "\n",
        "# importing testing dataset and their corresponding labels \n",
        "csvname3 = 'X_test.csv'\n",
        "csvname4 = 'y_test.csv'\n",
        "\n",
        "X_test = np.loadtxt(csvname3, delimiter = ',', skiprows = 1) \n",
        "y_test = np.loadtxt(csvname4, delimiter = ',', skiprows = 1) "
      ]
    },
    {
      "cell_type": "markdown",
      "metadata": {
        "id": "Nk9Lvh5auk-S"
      },
      "source": [
        "Here, I have converted the original datafiles to .csv extensions in order to access the feature vectors and labels easily."
      ]
    },
    {
      "cell_type": "code",
      "execution_count": null,
      "metadata": {
        "colab": {
          "base_uri": "https://localhost:8080/"
        },
        "id": "UMUdbf-N8rh1",
        "outputId": "4d7f4143-4850-4414-9e07-aa8502836d56"
      },
      "outputs": [
        {
          "name": "stdout",
          "output_type": "stream",
          "text": [
            "(7352, 561)\n",
            "(7352,)\n",
            "(2947, 561)\n",
            "(2947,)\n"
          ]
        }
      ],
      "source": [
        "# Dimensions of the imported datasets\n",
        "print(X_train.shape)\n",
        "print(y_train.shape) \n",
        "print(X_test.shape)\n",
        "print(y_test.shape)  "
      ]
    },
    {
      "cell_type": "markdown",
      "metadata": {
        "id": "vKJOwiM5uk-T"
      },
      "source": [
        "There are in total 7352 and 2947 feature vectors in the original training and testing set respectively. Each vector is composed of 561 distinct features stored in the X datapoints and their corresponding labels are listed out of six associated activities performed by all 30 participants."
      ]
    },
    {
      "cell_type": "code",
      "execution_count": null,
      "metadata": {
        "colab": {
          "base_uri": "https://localhost:8080/"
        },
        "id": "6PUytZtwTypF",
        "outputId": "fa0e8938-f33b-41f4-9baa-93b176765f64"
      },
      "outputs": [
        {
          "name": "stdout",
          "output_type": "stream",
          "text": [
            "Actual labels: [5. 5. 5. ... 2. 2. 2.]\n",
            "Zero-indexed labels: [4. 4. 4. ... 1. 1. 1.]\n"
          ]
        }
      ],
      "source": [
        "# Here, y_prime and y_test_prime are adjusted to zero-indexed labels for y_train and y_test respectively.\n",
        "# This is done to accomodate the categorical values of our labels\n",
        "\n",
        "y_prime = y_train - 1\n",
        "y_test_prime = y_test - 1\n",
        "\n",
        "# checking the aforementioned operation\n",
        "print('Actual labels:',y_train) \n",
        "print('Zero-indexed labels:',y_prime) "
      ]
    },
    {
      "cell_type": "markdown",
      "metadata": {
        "id": "MRRcA-Z6uk-U"
      },
      "source": [
        "Notice here, y_prime and y_test_prime are adjusted to zero-indexed labels for y_train and y_test datasets respectively. This is done to accomodate the categorical values of our labels in one-hot encoding. Hence, we will refer the following scheme of activity indexes for the remainder of the exercises; "
      ]
    },
    {
      "cell_type": "markdown",
      "metadata": {
        "id": "5lxJMWv6uk-U"
      },
      "source": [
        "    Label   Activity\n",
        "        0   Walking\n",
        "        1   Walking Upstairs\n",
        "        2   Walking Downstairs\n",
        "        3   Sitting\n",
        "        4   Standing\n",
        "        5   Lying"
      ]
    },
    {
      "cell_type": "markdown",
      "metadata": {
        "id": "DO6L2z42uk-V"
      },
      "source": [
        "# One-hot encoding"
      ]
    },
    {
      "cell_type": "code",
      "execution_count": null,
      "metadata": {
        "id": "vA68LHlA9O7t"
      },
      "outputs": [],
      "source": [
        "# Converting the labels to one-hot-encoded using our zero-indexed arrays \n",
        "\n",
        "y_c = to_categorical (y_prime) \n",
        "y_test_c = to_categorical (y_test_prime) "
      ]
    },
    {
      "cell_type": "code",
      "execution_count": null,
      "metadata": {
        "colab": {
          "base_uri": "https://localhost:8080/"
        },
        "id": "9Okpx_qyC2bd",
        "outputId": "edbefbcf-8908-446d-db82-08840bd2f73e"
      },
      "outputs": [
        {
          "name": "stdout",
          "output_type": "stream",
          "text": [
            "Training label of the first element is: 4.0 and its one-hot-encoded vector is: [0. 0. 0. 0. 1. 0.]\n"
          ]
        }
      ],
      "source": [
        "# checking whether we get the desired output\n",
        "\n",
        "print('Training label of the first element is:',y_prime[0],'and its one-hot-encoded vector is:',y_c[0]) \n",
        "# print(y_c[0]) \n",
        "# print('Testing label of the first element is:',y_test_prime[0],' and the one-hot-encoded value is:',y_test_c[0])\n",
        "# print(y_test_c[0]) "
      ]
    },
    {
      "cell_type": "markdown",
      "metadata": {
        "id": "MP_Ezyzsuk-V"
      },
      "source": [
        "# Building the training model using keras.tensorflow"
      ]
    },
    {
      "cell_type": "code",
      "execution_count": null,
      "metadata": {
        "id": "HEqfFCSkNSnX"
      },
      "outputs": [],
      "source": [
        "# Building the model using keras.tensorflow with three hidden layers \n",
        "# parameters and activation functions fed to the model as follows:\n",
        "\n",
        "model = models.Sequential([\n",
        "  layers.Flatten(),                           # to flatten the input shape                     \n",
        "  layers.Dense(500, activation='relu'),       # dense layer of 500 units with with activation function = ReLU\n",
        "  layers.Dense(250, activation='sigmoid'),    # dense layer of 250 units with with activation function = sigmoid\n",
        "  layers.Dense(50, activation='relu'),       # dense layer of 50 units with with activation function = ReLU\n",
        "  layers.Dense(6, activation='softmax')       # dense layer of 6 units with softmax activation, that outputs prediction probabilities\n",
        "])\n",
        "\n",
        "# Building the model by inputting the training dataset \n",
        "model.build(X_train.shape) "
      ]
    },
    {
      "cell_type": "code",
      "execution_count": null,
      "metadata": {
        "colab": {
          "base_uri": "https://localhost:8080/"
        },
        "id": "4_4aABRnP83I",
        "outputId": "070afb7d-3379-484b-e002-27251a8f71da"
      },
      "outputs": [
        {
          "name": "stdout",
          "output_type": "stream",
          "text": [
            "Model: \"sequential_3\"\n",
            "_________________________________________________________________\n",
            "Layer (type)                 Output Shape              Param #   \n",
            "=================================================================\n",
            "flatten_3 (Flatten)          (7352, 561)               0         \n",
            "_________________________________________________________________\n",
            "dense_12 (Dense)             (7352, 500)               281000    \n",
            "_________________________________________________________________\n",
            "dense_13 (Dense)             (7352, 250)               125250    \n",
            "_________________________________________________________________\n",
            "dense_14 (Dense)             (7352, 50)                12550     \n",
            "_________________________________________________________________\n",
            "dense_15 (Dense)             (7352, 6)                 306       \n",
            "=================================================================\n",
            "Total params: 419,106\n",
            "Trainable params: 419,106\n",
            "Non-trainable params: 0\n",
            "_________________________________________________________________\n"
          ]
        }
      ],
      "source": [
        "# Compiling the model with the categorical crossentropy cost \n",
        "\n",
        "model.compile(optimizer='adam',\n",
        "              loss='categorical_crossentropy',\n",
        "              metrics=['accuracy']) \n",
        "\n",
        "model.summary() "
      ]
    },
    {
      "cell_type": "markdown",
      "metadata": {
        "id": "S6Cjqspguk-W"
      },
      "source": [
        "Our model is handling almost half a million parameters here."
      ]
    },
    {
      "cell_type": "code",
      "execution_count": null,
      "metadata": {
        "colab": {
          "base_uri": "https://localhost:8080/"
        },
        "id": "JetysEjjQnmp",
        "outputId": "c48bb82c-15c3-4901-b690-a29c8bd97ac0"
      },
      "outputs": [
        {
          "name": "stdout",
          "output_type": "stream",
          "text": [
            "Epoch 1/10\n",
            "58/58 [==============================] - 1s 4ms/step - loss: 0.7581 - accuracy: 0.7350\n",
            "Epoch 2/10\n",
            "58/58 [==============================] - 0s 4ms/step - loss: 0.2289 - accuracy: 0.9136\n",
            "Epoch 3/10\n",
            "58/58 [==============================] - 0s 4ms/step - loss: 0.1422 - accuracy: 0.9467\n",
            "Epoch 4/10\n",
            "58/58 [==============================] - 0s 4ms/step - loss: 0.0960 - accuracy: 0.9634\n",
            "Epoch 5/10\n",
            "58/58 [==============================] - 0s 4ms/step - loss: 0.0708 - accuracy: 0.9742\n",
            "Epoch 6/10\n",
            "58/58 [==============================] - 0s 4ms/step - loss: 0.1034 - accuracy: 0.9572\n",
            "Epoch 7/10\n",
            "58/58 [==============================] - 0s 4ms/step - loss: 0.0674 - accuracy: 0.9724\n",
            "Epoch 8/10\n",
            "58/58 [==============================] - 0s 4ms/step - loss: 0.0600 - accuracy: 0.9767\n",
            "Epoch 9/10\n",
            "58/58 [==============================] - 0s 4ms/step - loss: 0.0604 - accuracy: 0.9774\n",
            "Epoch 10/10\n",
            "58/58 [==============================] - 0s 4ms/step - loss: 0.0483 - accuracy: 0.9831\n"
          ]
        }
      ],
      "source": [
        "# fitting the model with 10 epochs \n",
        "history = model.fit(X_train, y_c, epochs=10, batch_size=128)\n",
        "\n",
        "# Evaluating the loss history and the accuracy history \n",
        "accuracy_history = history.history['accuracy']\n",
        "loss_history = history.history['loss']"
      ]
    },
    {
      "cell_type": "code",
      "execution_count": null,
      "metadata": {
        "id": "c4V0A9FGuk-X",
        "outputId": "12e198e3-c101-4841-e225-e26f9c0400b1"
      },
      "outputs": [
        {
          "name": "stdout",
          "output_type": "stream",
          "text": [
            "Our trained model attains the accuracy of 0.983133852481842 on the training module, after 10 epochs.\n"
          ]
        }
      ],
      "source": [
        "print('Our trained model attains the accuracy of',accuracy_history[-1],'on the training module, after 10 epochs.')"
      ]
    },
    {
      "cell_type": "markdown",
      "metadata": {
        "id": "ebduO7Rpuk-X"
      },
      "source": [
        "# Plotting"
      ]
    },
    {
      "cell_type": "code",
      "execution_count": null,
      "metadata": {
        "colab": {
          "base_uri": "https://localhost:8080/",
          "height": 357
        },
        "id": "VZ_Uz-RSsBck",
        "outputId": "5c3a268f-6773-41b8-c77e-746bb1bdd6ac"
      },
      "outputs": [
        {
          "data": {
            "image/png": "[encoded data removed]",
            "text/plain": [
              "<Figure size 1008x360 with 2 Axes>"
            ]
          },
          "metadata": {
            "needs_background": "light"
          },
          "output_type": "display_data"
        }
      ],
      "source": [
        "# Plotting the accuracy and the loss history\n",
        "fig, ax = plt.subplots(1,2,figsize = (14,5)) \n",
        "\n",
        "ax[0].plot(loss_history,'-or', label=\"Loss\") \n",
        "ax[0].set_title(\"Loss History\", fontsize=15)\n",
        "ax[0].set_xlabel(\"Epochs\", fontsize=15)\n",
        "ax[0].legend()\n",
        "\n",
        "ax[1].plot(accuracy_history,'-ob', label=\"Accuracy\") \n",
        "ax[1].set_title(\"Accuracy History\", fontsize = 15) \n",
        "ax[1].set_xlabel(\"Epochs\", fontsize=15)\n",
        "ax[1].legend()\n",
        "\n",
        "plt.show()  "
      ]
    },
    {
      "cell_type": "markdown",
      "metadata": {
        "id": "dzFaufS6uk-X"
      },
      "source": [
        "Comment on the plots generated above:\n",
        "\n",
        "After the first few iterations, the model does not fit the datapoints any significantly, and thus, they can be rendered redundant after certain number of epochs."
      ]
    },
    {
      "cell_type": "markdown",
      "metadata": {
        "id": "UKiEpsx2uk-X"
      },
      "source": [
        "# Evaluating our model"
      ]
    },
    {
      "cell_type": "code",
      "execution_count": null,
      "metadata": {
        "colab": {
          "base_uri": "https://localhost:8080/"
        },
        "id": "4tRa6iQNRQIQ",
        "outputId": "0bca3ff4-43c0-4da8-e956-4db1db1520c9"
      },
      "outputs": [
        {
          "name": "stdout",
          "output_type": "stream",
          "text": [
            "93/93 [==============================] - 0s 1ms/step - loss: 0.1656 - accuracy: 0.9437\n",
            "test accuracy: 0.9436715245246887\n"
          ]
        }
      ],
      "source": [
        "# Evaluating the accuracy of our model on the testing dataset\n",
        "\n",
        "test_loss, test_acc = model.evaluate(X_test, y_test_c)\n",
        "print('test accuracy:', test_acc) "
      ]
    },
    {
      "cell_type": "code",
      "execution_count": null,
      "metadata": {
        "id": "fyZaBMCSuk-Y",
        "outputId": "de60a566-350c-4f84-bb8a-8501d4c6a608"
      },
      "outputs": [
        {
          "name": "stdout",
          "output_type": "stream",
          "text": [
            "Our trained model attains the accuracy of 0.9436715245246887 on the testing set.\n"
          ]
        }
      ],
      "source": [
        "print('Our trained model attains the accuracy of',test_acc,'on the testing set.')"
      ]
    },
    {
      "cell_type": "code",
      "execution_count": null,
      "metadata": {
        "colab": {
          "base_uri": "https://localhost:8080/"
        },
        "id": "JRmW0fdqlSew",
        "outputId": "6e889d6a-af00-4ec0-8abc-6a11adedf28b"
      },
      "outputs": [
        {
          "name": "stdout",
          "output_type": "stream",
          "text": [
            "Probabilities of a random feature vector:\n",
            " [1.17227166e-04 9.56435906e-06 3.64125754e-06 9.49063063e-01\n",
            " 5.07743992e-02 3.21318221e-05]\n",
            "\n",
            "Corresponding predicted label (zero-indexed): 3\n",
            "Corresponding actual label (zero-indexed): 3.0\n"
          ]
        }
      ],
      "source": [
        "# Classifications is the array containing probabilities of predicted labels in the testing dataset\n",
        "\n",
        "test_classifications = model.predict(X_test)\n",
        "train_classifications = model.predict(X_train) \n",
        "\n",
        "# checking \n",
        "print('Probabilities of a random feature vector:\\n',test_classifications[199])\n",
        "print('\\nCorresponding predicted label (zero-indexed):',np.argmax(test_classifications[199]))\n",
        "print('Corresponding actual label (zero-indexed):',y_test_prime[199])  "
      ]
    },
    {
      "cell_type": "code",
      "execution_count": null,
      "metadata": {
        "id": "J2s5zI-tuk-Y",
        "outputId": "b8b4f9b6-2251-4f90-d0b8-441e52d3e39a"
      },
      "outputs": [
        {
          "data": {
            "image/png": "[encoded data removed]",
            "text/plain": [
              "<Figure size 360x288 with 1 Axes>"
            ]
          },
          "metadata": {
            "needs_background": "light"
          },
          "output_type": "display_data"
        }
      ],
      "source": [
        "# Example of a histogram of probabilities \n",
        "\n",
        "i_probs = list(test_classifications[199]) \n",
        "i_labels = list(range(6))  \n",
        "\n",
        "fig, ax = plt.subplots(figsize=(5,4))\n",
        "\n",
        "ax.bar (i_labels, i_probs) \n",
        "ax.set_ylim (0.0, 1.0)  \n",
        "ax.set_xlim (-0.5, 5.5) \n",
        "ax.set_xticks(i_labels)\n",
        "ax.set_xlabel(\"Labels\")\n",
        "ax.set_ylabel(\"Probabilities\")\n",
        "ax.set_title(\"Histogram of predicted label probabilities\")\n",
        "\n",
        "plt.show() "
      ]
    },
    {
      "cell_type": "code",
      "execution_count": null,
      "metadata": {
        "id": "d8ZAud8xmOP1",
        "outputId": "6e9cb0fb-88c2-492d-ca53-7ca7c7c98090"
      },
      "outputs": [
        {
          "name": "stdout",
          "output_type": "stream",
          "text": [
            "Predicted testing labels (y_hat_test): [4 4 4 ... 1 1 1]\n",
            "Predicted training labels (y_hat_train): [4 4 4 ... 1 1 1]\n"
          ]
        }
      ],
      "source": [
        "# Predicting the labels of the testing dataset \n",
        "y_hat_test = np.argmax(test_classifications, axis = 1) \n",
        "\n",
        "# Predicting the labels of the training dataset \n",
        "y_hat_train = np.argmax(train_classifications, axis = 1)\n",
        "\n",
        "print('Predicted testing labels (y_hat_test):',y_hat_test) \n",
        "print('Predicted training labels (y_hat_train):',y_hat_train)  "
      ]
    },
    {
      "cell_type": "markdown",
      "metadata": {
        "id": "ZKJEi3ALuk-Y"
      },
      "source": [
        "Note that the labels are zero-indexed to be consistent with the y_prime & y_test_prime dataset in this context."
      ]
    },
    {
      "cell_type": "markdown",
      "metadata": {
        "id": "A1tzQBhAuk-Z"
      },
      "source": [
        "# Confusion matrix"
      ]
    },
    {
      "cell_type": "code",
      "execution_count": null,
      "metadata": {
        "id": "3IvfE7uUuk-Z",
        "outputId": "2f22fdc2-a0cb-4f5a-f4b8-2a82516e7986"
      },
      "outputs": [
        {
          "name": "stdout",
          "output_type": "stream",
          "text": [
            "Confusion matrix on the testing dataset:\n"
          ]
        },
        {
          "data": {
            "text/plain": [
              "<tf.Tensor: shape=(6, 6), dtype=int32, numpy=\n",
              "array([[489,   1,   6,   0,   0,   0],\n",
              "       [ 37, 432,   1,   0,   1,   0],\n",
              "       [  7,  27, 386,   0,   0,   0],\n",
              "       [  0,   2,   0, 436,  53,   0],\n",
              "       [  0,   0,   0,  23, 509,   0],\n",
              "       [  0,   0,   0,   0,   8, 529]], dtype=int32)>"
            ]
          },
          "execution_count": 118,
          "metadata": {},
          "output_type": "execute_result"
        }
      ],
      "source": [
        "# Generating the confusion matrix on the testing dataset using the utility tensorflow.math.confusion_matrix\n",
        "\n",
        "print('Confusion matrix on the testing dataset:') \n",
        "\n",
        "tf.math.confusion_matrix(\n",
        "    y_test_prime,\n",
        "    y_hat_test\n",
        ") "
      ]
    },
    {
      "cell_type": "code",
      "execution_count": null,
      "metadata": {
        "id": "Ccldm5eUuk-Z",
        "outputId": "13e519c1-9840-41be-d0bf-809acd3029df"
      },
      "outputs": [
        {
          "name": "stdout",
          "output_type": "stream",
          "text": [
            "Confusion matrix on the training dataset:\n"
          ]
        },
        {
          "data": {
            "text/plain": [
              "<tf.Tensor: shape=(6, 6), dtype=int32, numpy=\n",
              "array([[1226,    0,    0,    0,    0,    0],\n",
              "       [   0, 1073,    0,    0,    0,    0],\n",
              "       [   0,    0,  986,    0,    0,    0],\n",
              "       [   0,    0,    0, 1239,   47,    0],\n",
              "       [   0,    0,    0,   55, 1319,    0],\n",
              "       [   0,    0,    0,    0,    0, 1407]], dtype=int32)>"
            ]
          },
          "execution_count": 119,
          "metadata": {},
          "output_type": "execute_result"
        }
      ],
      "source": [
        "# Generating the confusion matrix on the training dataset using the utility tensorflow.math.confusion_matrix\n",
        "\n",
        "print('Confusion matrix on the training dataset:') \n",
        "\n",
        "tf.math.confusion_matrix(\n",
        "    y_prime,\n",
        "    y_hat_train\n",
        ") "
      ]
    },
    {
      "cell_type": "markdown",
      "metadata": {
        "id": "B53cL3c2uk-Z"
      },
      "source": [
        "Aforementioned is the confusion matrix for each of the 6 activities incorporating the predictions achieved by the trained model. True predictions lie on the diagonal axis of the matrix and the off-diagonal elements depict the misclassified predictions of our model."
      ]
    },
    {
      "cell_type": "markdown",
      "metadata": {
        "id": "xug9T1F7uk-Z"
      },
      "source": [
        "# Subject Activities"
      ]
    },
    {
      "cell_type": "code",
      "execution_count": null,
      "metadata": {
        "id": "gcytBrKtuk-Z",
        "outputId": "9cc6fd8f-8f6e-4e51-bfc3-f6eed3ef64de"
      },
      "outputs": [
        {
          "name": "stdout",
          "output_type": "stream",
          "text": [
            "(7352,)\n",
            "(2947,)\n"
          ]
        }
      ],
      "source": [
        "df1 = 'subject_train.txt'\n",
        "subject_train = np.loadtxt(df1) \n",
        "\n",
        "df2 = 'subject_test.txt'  \n",
        "subject_test = np.loadtxt(df2) \n",
        "\n",
        "print(subject_train.shape)\n",
        "print(subject_test.shape)  "
      ]
    },
    {
      "cell_type": "code",
      "execution_count": null,
      "metadata": {
        "id": "SqIn1TTouk-Z"
      },
      "outputs": [],
      "source": [
        "# Subject_activity function computes the \"predicted\" series of activities that a certain subject performs.\n",
        "\n",
        "def subject_activity (subject, array1, array2):\n",
        "    # array1 contains subjects, performing activities.\n",
        "    # array2 contains activity labels. Usually we will input the labels predicted by our trained model.\n",
        "    inds = []\n",
        "    out = []\n",
        "    \n",
        "    # First, we pick out the subject oriented activities\n",
        "    for i in range(len(array1)):\n",
        "        if (array1[i] == subject):\n",
        "            inds.append(i)\n",
        "    \n",
        "    c = np.zeros(6) # c acts as a counter. \n",
        "    for j in inds:\n",
        "        if (array2[j] == 0) and (c[0] == 0):\n",
        "            out.append('Walking')\n",
        "            c[0] += 1\n",
        "        elif (array2[j] == 1) and (c[1] == 0):\n",
        "            out.append('Walking Upstairs')\n",
        "            c[1] += 1\n",
        "        elif (array2[j] == 2) and (c[2] == 0):\n",
        "            out.append('Walking Downstairs')\n",
        "            c[2] += 1\n",
        "        elif (array2[j] == 3) and (c[3] == 0):\n",
        "            out.append('Sitting')\n",
        "            c[3] += 1\n",
        "        elif (array2[j] == 4) and (c[4] == 0):\n",
        "            out.append('Standing')\n",
        "            c[4] += 1\n",
        "        elif (array2[j] == 5) and (c[5] == 0):\n",
        "            out.append('Lying')\n",
        "            c[5] += 1\n",
        "    return out"
      ]
    },
    {
      "cell_type": "code",
      "execution_count": null,
      "metadata": {
        "id": "q50SZZDJuk-a",
        "outputId": "837890f7-1f07-4d0e-b0aa-ac9ad746f88b"
      },
      "outputs": [
        {
          "name": "stdout",
          "output_type": "stream",
          "text": [
            "Series of activities performed by the subject 2:\n",
            " ['Standing', 'Sitting', 'Lying', 'Walking', 'Walking Downstairs', 'Walking Upstairs']\n"
          ]
        }
      ],
      "source": [
        "my_arr = subject_activity (2, subject_test, y_hat_test) \n",
        "print('Series of activities performed by the subject 2:\\n',my_arr)  "
      ]
    }
  ],
  "metadata": {
    "colab": {
      "collapsed_sections": [],
      "name": "HAR_tensorflow_keras.ipynb",
      "provenance": []
    },
    "kernelspec": {
      "display_name": "Python 3",
      "language": "python",
      "name": "python3"
    },
    "language_info": {
      "codemirror_mode": {
        "name": "ipython",
        "version": 3
      },
      "file_extension": ".py",
      "mimetype": "text/x-python",
      "name": "python",
      "nbconvert_exporter": "python",
      "pygments_lexer": "ipython3",
      "version": "3.6.8"
    }
  },
  "nbformat": 4,
  "nbformat_minor": 0
}